{
 "cells": [
  {
   "cell_type": "markdown",
   "id": "d707feae",
   "metadata": {},
   "source": [
    "## Funksjoner"
   ]
  },
  {
   "cell_type": "markdown",
   "id": "85bb3e98",
   "metadata": {},
   "source": [
    "## 0. Installere pakker\n",
    "\n",
    "1. Åpne denne mappa i VS Code, ikke hele IT-mappa\n",
    "2. Trykk cmd+shift+p, skriv \"Python: Create Environment\" og trykk enter\n",
    "3. Åpne en ny terminal\n",
    "4. Kjør kommandoen `pip install flask requests`"
   ]
  },
  {
   "cell_type": "markdown",
   "id": "73eb8e17",
   "metadata": {
    "vscode": {
     "languageId": "plaintext"
    }
   },
   "source": [
    "## 1. Hva er en funksjon?\n",
    "\n",
    "En funksjon er en **ferdig definert oppskrift** som kan utføre en oppgave.  \n",
    "Funksjoner _kjøres_ med enkle parenteser `()`"
   ]
  },
  {
   "cell_type": "code",
   "execution_count": null,
   "id": "a320fa2b",
   "metadata": {},
   "outputs": [],
   "source": [
    "print(\"Hei\") # skriver ut tekst\n",
    "input(\"Hva heter du? \") # ber brukeren skrive inn noe"
   ]
  },
  {
   "cell_type": "markdown",
   "id": "c2ba21e8",
   "metadata": {},
   "source": [
    "## 2. Innebygde funksjoner\n",
    "\n",
    "Python kommer med et sett med innebygde funksjoner, f.eks.:\n",
    "\n",
    "- `len()` – finner lengden på en liste eller tekst\n",
    "- `sum()` – summerer tall i en liste\n",
    "- `max()` og `min()` – finner største og minste verdi\n",
    "- `set()` – fjerner duplikater\n",
    "- [Alle innebygde funksjoner i Python (docs.python.org/3/library/functions)](https://docs.python.org/3/library/functions.html)"
   ]
  },
  {
   "cell_type": "code",
   "execution_count": null,
   "id": "61f61d4f",
   "metadata": {},
   "outputs": [],
   "source": [
    "# Eksempel\n",
    "lærere = [\"Hafnor\", \"Gade\", \"Manikarnika\", \"Thorsen\", \"Gade\"]"
   ]
  },
  {
   "cell_type": "markdown",
   "id": "d04d9e2b",
   "metadata": {},
   "source": [
    "## 3. Funksjoner fra moduler\n",
    "\n",
    "I tillegg til innebygde funksjoner kan vi importere moduler med flere funksjoner.  "
   ]
  },
  {
   "cell_type": "code",
   "execution_count": null,
   "id": "0d9de58d",
   "metadata": {},
   "outputs": [],
   "source": [
    "# Eksempel random-modulen"
   ]
  },
  {
   "cell_type": "markdown",
   "id": "458c9fd8",
   "metadata": {},
   "source": [
    "## 4. Egne funksjoner\n",
    "\n",
    "Vi kan også lage egne funksjoner med nøkkelordet `def`."
   ]
  },
  {
   "cell_type": "code",
   "execution_count": null,
   "id": "ac91aa45",
   "metadata": {},
   "outputs": [],
   "source": [
    "# enkel funksjon\n",
    "\n",
    "# med argumenter\n",
    "\n",
    "# mange argumenter"
   ]
  },
  {
   "cell_type": "markdown",
   "id": "30ff85ca",
   "metadata": {},
   "source": [
    "## 5. Returverdier\n",
    "\n",
    "Funksjoner kan også **returnere verdier** med nøkkelordet `return`\n"
   ]
  },
  {
   "cell_type": "code",
   "execution_count": null,
   "id": "c6d571af",
   "metadata": {},
   "outputs": [],
   "source": [
    "# Eksempel på funksjoner med returverdier"
   ]
  },
  {
   "cell_type": "markdown",
   "id": "e2a91ea3",
   "metadata": {},
   "source": [
    "## 6. Python-snacks\n",
    "\n",
    "Python har mange innebygde _greier_ som vi _kan velge_ å bruke"
   ]
  },
  {
   "cell_type": "code",
   "execution_count": null,
   "id": "36266181",
   "metadata": {},
   "outputs": [],
   "source": [
    "# listebygging (list comprehensions)\n",
    "\n",
    "# inline if\n"
   ]
  },
  {
   "cell_type": "markdown",
   "id": "fe8e8c58",
   "metadata": {},
   "source": [
    "## 7. Eksempel - Vi rydder koden med funksjoner"
   ]
  },
  {
   "cell_type": "code",
   "execution_count": null,
   "id": "c3c9f47e",
   "metadata": {},
   "outputs": [],
   "source": [
    "import requests\n",
    "\n",
    "\"\"\"\n",
    "Sandvika 59.88, 10.52\n",
    "Trondheim 63.43, 10.39\n",
    "\"\"\"\n",
    "\n",
    "# Henter værdata for Sandvika, Bærum\n",
    "url = \"https://api.met.no/weatherapi/locationforecast/2.0/compact\"\n",
    "params = {\"lat\": 59.88, \"lon\": 10.52}  # Sandvika, Bærum\n",
    "headers = {\"User-Agent\": \"SandvikaVGS/1.0\"}  # kreves av MET API\n",
    "respons = requests.get(url, params=params, headers=headers)\n",
    "\n",
    "data = respons.json()\n",
    "temperatur = data[\"properties\"][\"timeseries\"][0][\"data\"][\"instant\"][\"details\"][\"air_temperature\"]\n",
    "vind = data[\"properties\"][\"timeseries\"][0][\"data\"][\"instant\"][\"details\"][\"wind_speed\"]\n",
    "\n",
    "print(\"Været i Sandvika akkurat nå:\")\n",
    "print(\"Temperatur:\", temperatur, \"°C\")\n",
    "print(\"Vind:\", vind, \"m/s\")"
   ]
  },
  {
   "cell_type": "markdown",
   "id": "1192ed51",
   "metadata": {},
   "source": [
    "## 8. Oppgave - Vær-nettsted med Flask\n",
    "\n",
    "Bruk Flask og lag et nettsted som viser været i Sandvika akkurat nå."
   ]
  },
  {
   "cell_type": "code",
   "execution_count": null,
   "id": "3639565d",
   "metadata": {},
   "outputs": [],
   "source": [
    "# Tips: start-kode for Flask. Bør limes inn i en egen .py-fil.\n",
    "\n",
    "from flask import Flask\n",
    "\n",
    "app = Flask(__name__)\n",
    "\n",
    "@app.route(\"/\")\n",
    "def hello_world():\n",
    "    return \"<p>Hello, World!</p>\"\n",
    "\n",
    "app.run(debug=True)"
   ]
  }
 ],
 "metadata": {
  "kernelspec": {
   "display_name": ".venv",
   "language": "python",
   "name": "python3"
  },
  "language_info": {
   "codemirror_mode": {
    "name": "ipython",
    "version": 3
   },
   "file_extension": ".py",
   "mimetype": "text/x-python",
   "name": "python",
   "nbconvert_exporter": "python",
   "pygments_lexer": "ipython3",
   "version": "3.13.7"
  }
 },
 "nbformat": 4,
 "nbformat_minor": 5
}
